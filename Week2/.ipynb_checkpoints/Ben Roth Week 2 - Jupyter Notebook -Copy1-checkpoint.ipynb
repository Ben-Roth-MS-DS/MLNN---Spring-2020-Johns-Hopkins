{
 "cells": [
  {
   "cell_type": "code",
   "execution_count": 2,
   "metadata": {},
   "outputs": [],
   "source": [
    "import numpy as np\n",
    "import pandas as pd\n",
    "import scipy as sp"
   ]
  },
  {
   "cell_type": "code",
   "execution_count": 11,
   "metadata": {},
   "outputs": [
    {
     "data": {
      "text/plain": [
       "'/Users/Broth/Grad_School/Hopkins/Spring2020/ML/mlnn/mlnn/2'"
      ]
     },
     "execution_count": 11,
     "metadata": {},
     "output_type": "execute_result"
    }
   ],
   "source": [
    "import os\n",
    "\n",
    "os.getcwd()"
   ]
  },
  {
   "cell_type": "code",
   "execution_count": 3,
   "metadata": {},
   "outputs": [],
   "source": [
    "%matplotlib inline\n",
    "import matplotlib.pyplot as plt\n",
    "plt.style.use('ggplot')"
   ]
  },
  {
   "cell_type": "code",
   "execution_count": 4,
   "metadata": {},
   "outputs": [
    {
     "name": "stdout",
     "output_type": "stream",
     "text": [
      "Overwriting hw_data.csv\n"
     ]
    }
   ],
   "source": [
    "%%file hw_data.csv\n",
    "id,sex,weight,height\n",
    "1,M,190,77\n",
    "2,F,120,70\n",
    "3,F,110,68\n",
    "4,M,150,72\n",
    "5,O,120,66\n",
    "6,M,120,60\n",
    "7,F,140,70"
   ]
  },
  {
   "cell_type": "markdown",
   "metadata": {},
   "source": [
    "# Python"
   ]
  },
  {
   "cell_type": "markdown",
   "metadata": {},
   "source": [
    "## 1. Finish creating the following function that takes a list and returns the average value."
   ]
  },
  {
   "cell_type": "code",
   "execution_count": 5,
   "metadata": {},
   "outputs": [
    {
     "data": {
      "text/plain": [
       "3.375"
      ]
     },
     "execution_count": 5,
     "metadata": {},
     "output_type": "execute_result"
    }
   ],
   "source": [
    "def average(my_list):\n",
    "    total = 0\n",
    "    for item in my_list:\n",
    "        #do something with item!\n",
    "        total = total + item\n",
    "    \n",
    "    return total/len(my_list)\n",
    "\n",
    "average([1,2,1,4,3,2,5,9])"
   ]
  },
  {
   "cell_type": "markdown",
   "metadata": {},
   "source": [
    "## 2. Using a Dictionary keep track of the count of numbers (or items) from a list"
   ]
  },
  {
   "cell_type": "code",
   "execution_count": 6,
   "metadata": {},
   "outputs": [
    {
     "data": {
      "text/plain": [
       "{1: 2, 2: 2, 4: 1, 3: 1, 5: 1, 9: 1}"
      ]
     },
     "execution_count": 6,
     "metadata": {},
     "output_type": "execute_result"
    }
   ],
   "source": [
    "def counts(my_list):\n",
    "    #counts = dict()\n",
    "    \n",
    "    #for item in my_list:\n",
    "        \n",
    "        #count[str(item)] = \n",
    "        #do something with item!\n",
    "    \n",
    "    counts = {i:my_list.count(i) for i in my_list}\n",
    "    \n",
    "    return counts\n",
    "\n",
    "counts([1,2,1,4,3,2,5,9])    "
   ]
  },
  {
   "cell_type": "markdown",
   "metadata": {},
   "source": [
    "## 3.  Using the `counts()` function and the `.split()` function, return a dictionary of most occuring words from the following paragraph. Bonus, remove punctuation from words."
   ]
  },
  {
   "cell_type": "code",
   "execution_count": 7,
   "metadata": {},
   "outputs": [
    {
     "name": "stdout",
     "output_type": "stream",
     "text": [
      "{'For': 2, 'a': 15, 'minute': 1, 'or': 2, 'two': 2, 'she': 6, 'stood': 1, 'looking': 2, 'at': 6, 'the': 32, 'house,': 1, 'and': 16, 'wondering': 1, 'what': 2, 'to': 15, 'do': 1, 'next,': 1, 'when': 2, 'suddenly': 1, 'footman': 3, 'in': 7, 'livery': 1, 'came': 2, 'running': 1, 'out': 3, 'of': 9, 'wood—(she': 1, 'considered': 1, 'him': 2, 'be': 2, 'because': 3, 'he': 5, 'was': 8, 'livery:': 1, 'otherwise,': 1, 'judging': 1, 'by': 3, 'his': 5, 'face': 1, 'only,': 1, 'would': 1, 'have': 1, 'called': 1, 'fish)—and': 1, 'rapped': 1, 'loudly': 1, 'door': 4, 'with': 2, 'knuckles.': 1, 'It': 1, 'opened': 1, 'another': 1, 'livery,': 1, 'round': 1, 'face,': 1, 'large': 3, 'eyes': 2, 'like': 1, 'frog;': 1, 'both': 2, 'footmen,': 1, 'Alice': 4, 'noticed,': 1, 'had': 4, 'powdered': 1, 'hair': 1, 'that': 3, 'curled': 1, 'all': 3, 'over': 2, 'their': 3, 'heads.': 1, 'She': 1, 'felt': 1, 'very': 2, 'curious': 1, 'know': 1, 'it': 2, 'about,': 1, 'crept': 1, 'little': 1, 'way': 1, 'wood': 2, 'listen.': 1, 'The': 2, 'Fish-Footman': 2, 'began': 1, 'producing': 1, 'from': 2, 'under': 1, 'arm': 1, 'great': 2, 'letter,': 1, 'nearly': 2, 'as': 4, 'himself,': 1, 'this': 3, 'handed': 1, 'other,': 1, 'saying,': 1, 'solemn': 2, 'tone,': 2, '‘For': 1, 'Duchess.': 1, 'An': 2, 'invitation': 2, 'Queen': 1, 'play': 2, 'croquet.’': 2, 'Frog-Footman': 1, 'repeated,': 2, 'same': 2, 'only': 1, 'changing': 1, 'order': 1, 'words': 1, 'little,': 1, '‘From': 1, 'Queen.': 1, 'for': 3, 'Duchess': 1, 'Then': 1, 'they': 1, 'bowed': 1, 'low,': 1, 'curls': 1, 'got': 1, 'entangled': 1, 'together.': 1, 'laughed': 1, 'so': 2, 'much': 1, 'this,': 1, 'run': 1, 'back': 1, 'into': 3, 'fear': 1, 'hearing': 1, 'her;': 1, 'next': 1, 'peeped': 1, 'gone,': 1, 'other': 1, 'sitting': 1, 'on': 4, 'ground': 1, 'near': 1, 'door,': 2, 'staring': 1, 'stupidly': 1, 'up': 3, 'sky.': 1, 'went': 2, 'timidly': 1, 'knocked.': 1, '‘There’s': 1, 'no': 2, 'sort': 1, 'use': 1, 'knocking,’': 2, 'said': 3, 'Footman,': 1, '‘and': 1, 'reasons.': 1, 'First,': 1, 'I’m': 1, 'side': 1, 'you': 5, 'are;': 1, 'secondly,': 1, 'they’re': 1, 'making': 1, 'such': 1, 'noise': 2, 'inside,': 2, 'one': 2, 'could': 2, 'possibly': 1, 'hear': 1, 'you.’': 1, 'And': 1, 'certainly': 1, 'there': 1, 'most': 1, 'extraordinary': 1, 'going': 1, 'within—a': 1, 'constant': 1, 'howling': 1, 'sneezing,': 1, 'every': 1, 'now': 1, 'then': 1, 'crash,': 1, 'if': 2, 'dish': 1, 'kettle': 1, 'been': 1, 'broken': 1, 'pieces.': 1, '‘Please,': 1, 'then,’': 1, 'Alice,': 1, '‘how': 1, 'am': 2, 'I': 3, 'get': 2, 'in?’': 2, '‘There': 1, 'might': 3, 'some': 1, 'sense': 1, 'your': 1, 'Footman': 2, 'without': 1, 'attending': 1, 'her,': 1, '‘if': 1, 'we': 1, 'between': 1, 'us.': 1, 'instance,': 1, 'were': 1, 'knock,': 1, 'let': 1, 'out,': 2, 'know.’': 1, 'He': 1, 'sky': 1, 'time': 1, 'speaking,': 1, 'thought': 1, 'decidedly': 1, 'uncivil.': 1, '‘But': 1, 'perhaps': 1, 'can’t': 1, 'help': 1, 'it,’': 1, 'herself;': 1, '‘his': 1, 'are': 1, 'top': 1, 'head.': 1, 'But': 1, 'any': 1, 'rate': 1, 'answer': 1, 'questions.—How': 1, 'aloud.': 1, '‘I': 1, 'shall': 1, 'sit': 1, 'here,’': 1, 'remarked,': 1, '‘till': 1, 'tomorrow—’': 1, 'At': 1, 'moment': 1, 'house': 1, 'opened,': 1, 'plate': 1, 'skimming': 1, 'straight': 1, 'Footman’s': 1, 'head:': 1, 'just': 1, 'grazed': 1, 'nose,': 1, 'broke': 1, 'pieces': 1, 'against': 1, 'trees': 1, 'behind': 1, 'him.': 1}\n",
      "{'For': 3, 'a': 16, 'minute': 1, 'or': 2, 'two': 2, 'she': 7, 'stood': 1, 'looking': 2, 'at': 6, 'the': 32, 'house': 2, 'and': 18, 'wondering': 1, 'what': 2, 'to': 15, 'do': 1, 'next': 2, 'when': 2, 'suddenly': 1, 'footman': 3, 'in': 9, 'livery': 3, 'came': 2, 'running': 1, 'out': 5, 'of': 9, 'wood': 3, 'considered': 1, 'him': 3, 'be': 2, 'because': 3, 'he': 5, 'was': 8, 'otherwise': 1, 'judging': 1, 'by': 3, 'his': 6, 'face': 2, 'only': 2, 'would': 1, 'have': 1, 'called': 1, 'fish': 1, 'rapped': 1, 'loudly': 1, 'door': 6, 'with': 2, 'knuckles': 1, 'It': 1, 'opened': 2, 'another': 1, 'round': 1, 'large': 3, 'eyes': 2, 'like': 1, 'frog;': 1, 'both': 2, 'footmen': 1, 'Alice': 5, 'noticed': 1, 'had': 4, 'powdered': 1, 'hair': 1, 'that': 3, 'curled': 1, 'all': 3, 'over': 2, 'their': 3, 'heads': 1, 'She': 1, 'felt': 1, 'very': 2, 'curious': 1, 'know': 2, 'it': 3, 'about': 1, 'crept': 1, 'little': 2, 'way': 1, 'listen': 1, 'The': 2, 'Fish': 2, 'Footman': 6, 'began': 1, 'producing': 1, 'from': 2, 'under': 1, 'arm': 1, 'great': 2, 'letter': 1, 'nearly': 2, 'as': 4, 'himself': 1, 'this': 4, 'handed': 1, 'other': 2, 'saying': 1, 'solemn': 2, 'tone': 2, 'Duchess': 2, 'An': 2, 'invitation': 2, 'Queen': 2, 'play': 2, 'croquet': 2, 'Frog': 1, 'repeated': 2, 'same': 2, 'changing': 1, 'order': 1, 'words': 1, 'From': 1, 'for': 3, 'Then': 1, 'they': 1, 'bowed': 1, 'low': 1, 'curls': 1, 'got': 1, 'entangled': 1, 'together': 1, 'laughed': 1, 'so': 2, 'much': 1, 'run': 1, 'back': 1, 'into': 3, 'fear': 1, 'hearing': 1, 'her;': 1, 'peeped': 1, 'gone': 1, 'sitting': 1, 'on': 4, 'ground': 1, 'near': 1, 'staring': 1, 'stupidly': 1, 'up': 3, 'sky': 2, 'went': 2, 'timidly': 1, 'knocked': 1, 'Theres': 1, 'no': 2, 'sort': 1, 'use': 1, 'knocking': 2, 'said': 3, 'reasons': 1, 'First': 1, 'Im': 1, 'side': 1, 'you': 6, 'are;': 1, 'secondly': 1, 'theyre': 1, 'making': 1, 'such': 1, 'noise': 2, 'inside': 2, 'one': 2, 'could': 2, 'possibly': 1, 'hear': 1, 'And': 1, 'certainly': 1, 'there': 1, 'most': 1, 'extraordinary': 1, 'going': 1, 'within': 1, 'constant': 1, 'howling': 1, 'sneezing': 1, 'every': 1, 'now': 1, 'then': 2, 'crash': 1, 'if': 3, 'dish': 1, 'kettle': 1, 'been': 1, 'broken': 1, 'pieces': 2, 'Please': 1, 'how': 1, 'am': 2, 'I': 4, 'get': 2, 'There': 1, 'might': 3, 'some': 1, 'sense': 1, 'your': 1, 'without': 1, 'attending': 1, 'her': 1, 'we': 1, 'between': 1, 'us': 1, 'instance': 1, 'were': 1, 'knock': 1, 'let': 1, 'He': 1, 'time': 1, 'speaking': 1, 'thought': 1, 'decidedly': 1, 'uncivil': 1, 'But': 2, 'perhaps': 1, 'cant': 1, 'help': 1, 'herself;': 1, 'are': 1, 'top': 1, 'head': 2, 'any': 1, 'rate': 1, 'answer': 1, 'questions': 1, 'How': 1, 'aloud': 1, 'shall': 1, 'sit': 1, 'here': 1, 'remarked': 1, 'till': 1, 'tomorrow': 1, 'At': 1, 'moment': 1, 'plate': 1, 'skimming': 1, 'straight': 1, 'Footmans': 1, 'just': 1, 'grazed': 1, 'nose': 1, 'broke': 1, 'against': 1, 'trees': 1, 'behind': 1}\n"
     ]
    }
   ],
   "source": [
    "paragraph_text = '''\n",
    "For a minute or two she stood looking at the house, and wondering what to do next, when suddenly a footman in livery came running out of the wood—(she considered him to be a footman because he was in livery: otherwise, judging by his face only, she would have called him a fish)—and rapped loudly at the door with his knuckles. It was opened by another footman in livery, with a round face, and large eyes like a frog; and both footmen, Alice noticed, had powdered hair that curled all over their heads. She felt very curious to know what it was all about, and crept a little way out of the wood to listen.\n",
    "The Fish-Footman began by producing from under his arm a great letter, nearly as large as himself, and this he handed over to the other, saying, in a solemn tone, ‘For the Duchess. An invitation from the Queen to play croquet.’ The Frog-Footman repeated, in the same solemn tone, only changing the order of the words a little, ‘From the Queen. An invitation for the Duchess to play croquet.’\n",
    "Then they both bowed low, and their curls got entangled together.\n",
    "Alice laughed so much at this, that she had to run back into the wood for fear of their hearing her; and when she next peeped out the Fish-Footman was gone, and the other was sitting on the ground near the door, staring stupidly up into the sky.\n",
    "Alice went timidly up to the door, and knocked.\n",
    "‘There’s no sort of use in knocking,’ said the Footman, ‘and that for two reasons. First, because I’m on the same side of the door as you are; secondly, because they’re making such a noise inside, no one could possibly hear you.’ And certainly there was a most extraordinary noise going on within—a constant howling and sneezing, and every now and then a great crash, as if a dish or kettle had been broken to pieces.\n",
    "‘Please, then,’ said Alice, ‘how am I to get in?’\n",
    "‘There might be some sense in your knocking,’ the Footman went on without attending to her, ‘if we had the door between us. For instance, if you were inside, you might knock, and I could let you out, you know.’ He was looking up into the sky all the time he was speaking, and this Alice thought decidedly uncivil. ‘But perhaps he can’t help it,’ she said to herself; ‘his eyes are so very nearly at the top of his head. But at any rate he might answer questions.—How am I to get in?’ she repeated, aloud.\n",
    "‘I shall sit here,’ the Footman remarked, ‘till tomorrow—’\n",
    "At this moment the door of the house opened, and a large plate came skimming out, straight at the Footman’s head: it just grazed his nose, and broke to pieces against one of the trees behind him.'''\n",
    "\n",
    "#without removing punctuation\n",
    "print(counts(paragraph_text.split()))\n",
    "\n",
    "#with removing punctuation (can't think of a better way to replace punctuation)\n",
    "paragraph_text = paragraph_text.replace(',', ' ').replace('.', ' ').replace(\"’\", \"\").replace(\"—\", \" \").replace(\"-\", \" \").replace(\"(\", \" \").replace(\")\", \" \").replace(\":\", \" \").replace(\"?\", \" \").replace(\"‘\", \" \")\n",
    "print(counts(paragraph_text.split()))"
   ]
  },
  {
   "cell_type": "markdown",
   "metadata": {},
   "source": [
    "## 4. Read in a file and write each line from the file to a new file Title-ized\n",
    "\n",
    "`This is the first line` ->  `This Is The First Line`\n",
    "\n",
    "Hint: There's a function to do this"
   ]
  },
  {
   "cell_type": "code",
   "execution_count": 9,
   "metadata": {},
   "outputs": [
    {
     "ename": "FileNotFoundError",
     "evalue": "[Errno 2] No such file or directory: '/Users/Broth/Grad_School/Hopkins/Spring2020/ML/mlnn/mlnn/2/bbc-khashoggi.txt'",
     "output_type": "error",
     "traceback": [
      "\u001b[0;31m---------------------------------------------------------------------------\u001b[0m",
      "\u001b[0;31mFileNotFoundError\u001b[0m                         Traceback (most recent call last)",
      "\u001b[0;32m<ipython-input-9-939a00b5d293>\u001b[0m in \u001b[0;36m<module>\u001b[0;34m\u001b[0m\n\u001b[1;32m      1\u001b[0m \u001b[0;32mimport\u001b[0m \u001b[0mos\u001b[0m\u001b[0;34m\u001b[0m\u001b[0;34m\u001b[0m\u001b[0m\n\u001b[0;32m----> 2\u001b[0;31m \u001b[0;32mwith\u001b[0m \u001b[0mopen\u001b[0m\u001b[0;34m(\u001b[0m\u001b[0mos\u001b[0m\u001b[0;34m.\u001b[0m\u001b[0mgetcwd\u001b[0m\u001b[0;34m(\u001b[0m\u001b[0;34m)\u001b[0m \u001b[0;34m+\u001b[0m \u001b[0;34m\"/bbc-khashoggi.txt\"\u001b[0m\u001b[0;34m,\u001b[0m \u001b[0;34m'r'\u001b[0m\u001b[0;34m)\u001b[0m \u001b[0;32mas\u001b[0m \u001b[0mfile\u001b[0m\u001b[0;34m:\u001b[0m\u001b[0;34m\u001b[0m\u001b[0;34m\u001b[0m\u001b[0m\n\u001b[0m\u001b[1;32m      3\u001b[0m     \u001b[0mtext\u001b[0m \u001b[0;34m=\u001b[0m \u001b[0mfile\u001b[0m\u001b[0;34m.\u001b[0m\u001b[0mread\u001b[0m\u001b[0;34m(\u001b[0m\u001b[0;34m)\u001b[0m\u001b[0;34m.\u001b[0m\u001b[0mreplace\u001b[0m\u001b[0;34m(\u001b[0m\u001b[0;34m'\\n'\u001b[0m\u001b[0;34m,\u001b[0m \u001b[0;34m''\u001b[0m\u001b[0;34m)\u001b[0m\u001b[0;34m\u001b[0m\u001b[0;34m\u001b[0m\u001b[0m\n\u001b[1;32m      4\u001b[0m \u001b[0mfile\u001b[0m\u001b[0;34m.\u001b[0m\u001b[0mclose\u001b[0m\u001b[0;34m(\u001b[0m\u001b[0;34m)\u001b[0m\u001b[0;34m\u001b[0m\u001b[0;34m\u001b[0m\u001b[0m\n\u001b[1;32m      5\u001b[0m \u001b[0mprint\u001b[0m\u001b[0;34m(\u001b[0m\u001b[0mtext\u001b[0m\u001b[0;34m.\u001b[0m\u001b[0mtitle\u001b[0m\u001b[0;34m(\u001b[0m\u001b[0;34m)\u001b[0m\u001b[0;34m)\u001b[0m\u001b[0;34m\u001b[0m\u001b[0;34m\u001b[0m\u001b[0m\n",
      "\u001b[0;31mFileNotFoundError\u001b[0m: [Errno 2] No such file or directory: '/Users/Broth/Grad_School/Hopkins/Spring2020/ML/mlnn/mlnn/2/bbc-khashoggi.txt'"
     ]
    }
   ],
   "source": [
    "import os\n",
    "with open(\"./bbc-khashoggi.txt\", 'r') as file:\n",
    "    text = file.read().replace('\\n', '')\n",
    "file.close()\n",
    "print(text.title())\n",
    "file"
   ]
  },
  {
   "cell_type": "markdown",
   "metadata": {},
   "source": [
    "# Numpy"
   ]
  },
  {
   "cell_type": "markdown",
   "metadata": {},
   "source": [
    "## 1. Given a list, find the average using a numpy function. "
   ]
  },
  {
   "cell_type": "code",
   "execution_count": null,
   "metadata": {},
   "outputs": [],
   "source": [
    "simple_list = [1,2,1,4,3,2,5,9]\n",
    "\n",
    "np.average(simple_list)"
   ]
  },
  {
   "cell_type": "markdown",
   "metadata": {},
   "source": [
    "## 2. Given two lists of Heights and Weights of individual, calculate the BMI of those individuals, without writing a `for-loop`"
   ]
  },
  {
   "cell_type": "code",
   "execution_count": null,
   "metadata": {},
   "outputs": [],
   "source": [
    "heights = [174, 173, 173, 175, 171] #(hopefully not height in meters)\n",
    "weights = [88, 83, 92, 74, 77]\n",
    "\n",
    "#bmi = kg/m**2\n",
    "\n",
    "bmi = [weights[i]/((heights[i]/100)**2) for i in range(len(weights))]\n",
    "\n",
    "bmi"
   ]
  },
  {
   "cell_type": "markdown",
   "metadata": {},
   "source": [
    "## 3. Create an array of length 20 filled with random values (between 0 to 1) "
   ]
  },
  {
   "cell_type": "code",
   "execution_count": null,
   "metadata": {},
   "outputs": [],
   "source": [
    "random20 = np.random.rand(20)\n",
    "random20"
   ]
  },
  {
   "cell_type": "markdown",
   "metadata": {},
   "source": [
    "## Bonus. 1. Create an array with a large (>1000) length filled with random numbers from different distributions (normal, uniform, etc.). 2. Then, plot a histogram of these values. "
   ]
  },
  {
   "cell_type": "code",
   "execution_count": null,
   "metadata": {},
   "outputs": [],
   "source": [
    "array = np.concatenate((np.random.normal(size = 1500), np.random.gamma(1, 1, 1500)), axis = 0)\n",
    "plt.hist(array)\n",
    "plt.title('Distribution of Combined Normal Distribution and Gamma Distribution (n = 3000)')\n",
    "plt.show()"
   ]
  },
  {
   "cell_type": "code",
   "execution_count": null,
   "metadata": {},
   "outputs": [],
   "source": []
  },
  {
   "cell_type": "markdown",
   "metadata": {},
   "source": [
    "# Pandas"
   ]
  },
  {
   "cell_type": "markdown",
   "metadata": {},
   "source": [
    "## 1. Read in a CSV () and display all the columns and their respective data types "
   ]
  },
  {
   "cell_type": "code",
   "execution_count": null,
   "metadata": {},
   "outputs": [],
   "source": [
    "df = pd.read_csv('./hw_data.csv')\n",
    "df.dtypes"
   ]
  },
  {
   "cell_type": "markdown",
   "metadata": {},
   "source": [
    "## 2. Find the average weight "
   ]
  },
  {
   "cell_type": "code",
   "execution_count": null,
   "metadata": {},
   "outputs": [],
   "source": [
    "np.average(df.weight)"
   ]
  },
  {
   "cell_type": "markdown",
   "metadata": {},
   "source": [
    "## 3. Find the Value Counts on column `sex` "
   ]
  },
  {
   "cell_type": "code",
   "execution_count": null,
   "metadata": {},
   "outputs": [],
   "source": [
    "counts(list(df.sex))"
   ]
  },
  {
   "cell_type": "markdown",
   "metadata": {},
   "source": [
    "## 4. Plot Height vs. Weight "
   ]
  },
  {
   "cell_type": "code",
   "execution_count": null,
   "metadata": {},
   "outputs": [],
   "source": [
    "plt.scatter(x = df.weight, y =  df.height)\n",
    "plt.title('Height vs. Weight')\n",
    "plt.xlabel('Weight (Pounds)')\n",
    "plt.ylabel('Height (Inches)')\n",
    "plt.show()"
   ]
  },
  {
   "cell_type": "markdown",
   "metadata": {},
   "source": [
    "## 5. Calculate BMI and save as a new column"
   ]
  },
  {
   "cell_type": "code",
   "execution_count": null,
   "metadata": {},
   "outputs": [],
   "source": [
    "#convert weight to kgs\n",
    "df['weight_kg'] = df.weight*.45\n",
    "#convert height to meters\n",
    "df['height_m'] = df.height * 0.0254\n",
    "\n",
    "df['BMI'] = (df.weight_kg/((df.height_m)**2))\n",
    "df['BMI'].head()"
   ]
  },
  {
   "cell_type": "markdown",
   "metadata": {},
   "source": [
    "## 6. Save sheet as a new CSV file `hw_dataB.csv`"
   ]
  },
  {
   "cell_type": "code",
   "execution_count": null,
   "metadata": {},
   "outputs": [],
   "source": [
    "df.to_csv(\"./hw_dataB.csv\", index = False)"
   ]
  },
  {
   "cell_type": "markdown",
   "metadata": {},
   "source": [
    "## Run the following"
   ]
  },
  {
   "cell_type": "code",
   "execution_count": null,
   "metadata": {},
   "outputs": [],
   "source": [
    "!cat hw_dataB.csv"
   ]
  }
 ],
 "metadata": {
  "kernelspec": {
   "display_name": "Python 3",
   "language": "python",
   "name": "python3"
  },
  "language_info": {
   "codemirror_mode": {
    "name": "ipython",
    "version": 3
   },
   "file_extension": ".py",
   "mimetype": "text/x-python",
   "name": "python",
   "nbconvert_exporter": "python",
   "pygments_lexer": "ipython3",
   "version": "3.7.3"
  }
 },
 "nbformat": 4,
 "nbformat_minor": 1
}
